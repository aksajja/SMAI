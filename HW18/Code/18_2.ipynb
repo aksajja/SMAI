{
 "cells": [
  {
   "cell_type": "code",
   "execution_count": 2,
   "metadata": {},
   "outputs": [
    {
     "data": {
      "text/plain": [
       "<Figure size 640x480 with 1 Axes>"
      ]
     },
     "metadata": {},
     "output_type": "display_data"
    }
   ],
   "source": [
    "from __future__ import print_function\n",
    "import torch\n",
    "import numpy as np\n",
    "import matplotlib.pyplot as plt\n",
    "from sklearn.model_selection import train_test_split\n",
    "\n",
    "np.random.seed(0)\n",
    "x,y = np.random.multivariate_normal([0,0],[[1,0],[0,1]],100).T\n",
    "data1 = np.append(x.reshape(100,1),y.reshape(100,1),axis=1)\n",
    "labels1 = (np.ones(100))*-1\n",
    "x,y = np.random.multivariate_normal([0.5,0.5],[[1,-1],[-1,2]],100).T\n",
    "data2 = np.append(x.reshape(100,1),y.reshape(100,1),axis=1)\n",
    "labels2 = np.ones(100)\n",
    "data = np.append(data1,data2, axis=0)\n",
    "labels = np.append(labels1, labels2, axis=0)\n",
    "labels = labels.reshape(200,1)\n",
    "\n",
    "X_train, X_test, y_train, y_test = train_test_split(data, labels, test_size=0.2, random_state=42)\n",
    "plt.plot(data1[:,:1],data1[:,1:],'x')\n",
    "plt.plot(data2[:,:1],data2[:,1:],'x')\n",
    "plt.axis('equal'); plt.show()"
   ]
  },
  {
   "cell_type": "code",
   "execution_count": 3,
   "metadata": {},
   "outputs": [
    {
     "name": "stdout",
     "output_type": "stream",
     "text": [
      "[[4.17022005e-01 7.20324493e-01]\n",
      " [1.14374817e-04 3.02332573e-01]] [[0.14675589]\n",
      " [0.09233859]]\n",
      "[[0.85907666 1.05326801]\n",
      " [0.81683811 1.04164087]] [[1.56722385]\n",
      " [1.97508092]]\n"
     ]
    }
   ],
   "source": [
    "def sigmoid(x):\n",
    "    return 1/(1+np.exp(-(x)))\n",
    "\n",
    "\n",
    "np.random.seed(1)\n",
    "weights1 = np.random.rand(2,2)\n",
    "weights2 = np.random.rand(2,1)\n",
    "eta = 0.01\n",
    "print(weights1, weights2)\n",
    "\n",
    "for i in range(50):\n",
    "    hidden_states =  np.tanh(np.dot(X_train, weights1))\n",
    "    output_state = sigmoid(np.dot(hidden_states, weights2))\n",
    "    error_out = np.square(output_state - y_train)/2\n",
    "    slope_out = sigmoid(output_state)*(1-sigmoid(output_state))\n",
    "    slope_hid = 1 - (hidden_states)*(hidden_states)\n",
    "    d_output = error_out * slope_out\n",
    "    error_hid = np.dot(d_output, weights2.T)\n",
    "    d_hid = error_hid * slope_hid\n",
    "    weights2 = weights2 + np.dot(hidden_states.T, d_output)*eta\n",
    "    weights1 = weights1 + np.dot(X_train.T, d_hid)*eta\n",
    "\n",
    "print(weights1, weights2)\n",
    "\n",
    "###Testing \n",
    "hidden_states =  np.tanh(np.dot(X_test, weights1))\n",
    "output_state = sigmoid(np.dot(hidden_states, weights2))\n",
    "\n"
   ]
  },
  {
   "cell_type": "code",
   "execution_count": 6,
   "metadata": {},
   "outputs": [],
   "source": [
    "import torch\n",
    "import torch.nn as nn\n",
    "\n",
    "\n",
    "#data\n",
    "X = torch.tensor(X_train, dtype=torch.float) \n",
    "y = torch.tensor(y_train, dtype=torch.float) \n",
    "xPredicted = torch.tensor(X_test, dtype=torch.float)\n"
   ]
  },
  {
   "cell_type": "code",
   "execution_count": 54,
   "metadata": {},
   "outputs": [],
   "source": [
    "class Neural_Network(nn.Module):\n",
    "    def __init__(self, ):\n",
    "        super(Neural_Network, self).__init__()\n",
    "        # parameters\n",
    "        # TODO: parameters can be parameterized instead of declaring them here\n",
    "        self.inputSize = 2\n",
    "        self.outputSize = 1\n",
    "        self.hiddenSize = 2\n",
    "        self.eta = 0.01\n",
    "        \n",
    "        # weights\n",
    "        self.W1 = torch.randn(self.inputSize, self.hiddenSize) \n",
    "        self.W2 = torch.randn(self.hiddenSize, self.outputSize)\n",
    "        self.B1 = torch.randn(self.hiddenSize)\n",
    "        self.B2 = torch.randn(self.outputSize)\n",
    "        \n",
    "    def forward(self, X):\n",
    "        self.z = torch.matmul(X, self.W1) + self.B1 # 3 X 3 \".dot\" does not broadcast in PyTorch\n",
    "        self.z2 = self.tanh(self.z) # activation function\n",
    "        self.z3 = torch.matmul(self.z2, self.W2) + self.B2\n",
    "        o = self.sigmoid(self.z3) # final activation function\n",
    "        return o\n",
    "        \n",
    "    def sigmoid(self, s):\n",
    "        return 1 / (1 + torch.exp(-s))\n",
    "    \n",
    "    def tanh(self, s):\n",
    "        return (2/(1+torch.exp(-2*s))) - 1\n",
    "    \n",
    "    def sigmoidPrime(self, s):\n",
    "        # derivative of sigmoid\n",
    "        return s * (1 - s)\n",
    "    \n",
    "    def tanhPrime(self, s):\n",
    "        #derivative of tanh\n",
    "        return 1 - (s*s)\n",
    "    \n",
    "    def backward(self, X, y, o):\n",
    "        self.o_error = y - o # error in output\n",
    "        self.o_delta = self.o_error * self.sigmoidPrime(o) # derivative of sig to error\n",
    "        self.z2_error = torch.matmul(self.o_delta, torch.t(self.W2))\n",
    "        self.z2_delta = self.z2_error * self.tanhPrime(self.z2)\n",
    "        self.W1 += torch.matmul(torch.t(X), self.z2_delta) * self.eta\n",
    "        self.W2 += torch.matmul(torch.t(self.z2), self.o_delta) * self.eta\n",
    "        self.B1 += torch.sum(self.z2_delta, axis=0) * self.eta\n",
    "        self.B2 += torch.sum(self.o_delta, axis=0) * self.eta\n",
    "        \n",
    "    def train(self, X, y):\n",
    "        # forward + backward pass for training\n",
    "        o = self.forward(X)\n",
    "        self.backward(X, y, o)\n",
    "        \n",
    "    def saveWeights(self, model):\n",
    "        # we will use the PyTorch internal storage functions\n",
    "        torch.save(model, \"NN\")\n",
    "        params = model.parameters()\n",
    "        # you can reload model with all the weights and so forth with:\n",
    "        # torch.load(\"NN\")\n",
    "        "
   ]
  },
  {
   "cell_type": "code",
   "execution_count": 71,
   "metadata": {},
   "outputs": [
    {
     "name": "stdout",
     "output_type": "stream",
     "text": [
      "0.7\n"
     ]
    }
   ],
   "source": [
    "from sklearn.metrics import accuracy_score\n",
    "\n",
    "NN = Neural_Network()\n",
    "for i in range(1000):  # trains the NN 1,000 times\n",
    "    NN.train(X, y)\n",
    "\n",
    "NN.saveWeights(NN)\n",
    "output = NN.forward(xPredicted)\n",
    "y_pred = []\n",
    "\n",
    "for i in range(len(output)):\n",
    "    if(output[i]>0.1):\n",
    "        y_pred.append(1)\n",
    "    else:\n",
    "        y_pred.append(-1)\n",
    "        \n",
    "acc = accuracy_score(y_test, y_pred)\n",
    "print(acc)"
   ]
  },
  {
   "cell_type": "code",
   "execution_count": null,
   "metadata": {},
   "outputs": [],
   "source": []
  },
  {
   "cell_type": "code",
   "execution_count": 25,
   "metadata": {},
   "outputs": [],
   "source": [
    "import matplotlib.pyplot as plt\n",
    "from torch import nn, optim"
   ]
  },
  {
   "cell_type": "code",
   "execution_count": 26,
   "metadata": {},
   "outputs": [
    {
     "name": "stdout",
     "output_type": "stream",
     "text": [
      "Sequential(\n",
      "  (0): Linear(in_features=2, out_features=2, bias=True)\n",
      "  (1): Tanh()\n",
      "  (2): Linear(in_features=2, out_features=1, bias=True)\n",
      "  (3): Sigmoid()\n",
      ")\n"
     ]
    }
   ],
   "source": [
    "input_size = 2\n",
    "hidden_size = 2\n",
    "output_size = 1\n",
    "\n",
    "model = nn.Sequential(nn.Linear(input_size, hidden_size),\n",
    "                      nn.Tanh(),\n",
    "                      nn.Linear(hidden_size, output_size),\n",
    "                      nn.Sigmoid())\n",
    "print(model)"
   ]
  },
  {
   "cell_type": "code",
   "execution_count": 51,
   "metadata": {
    "scrolled": true
   },
   "outputs": [
    {
     "name": "stdout",
     "output_type": "stream",
     "text": [
      "Epoch 0 - Training loss: 0.9360702644102276\n",
      "Epoch 10 - Training loss: 0.9350921055302024\n",
      "Epoch 20 - Training loss: 0.9349891745485366\n",
      "Epoch 30 - Training loss: 0.9349286315962673\n",
      "Epoch 40 - Training loss: 0.9348854111507535\n",
      "Epoch 50 - Training loss: 0.9348518570885063\n",
      "Epoch 60 - Training loss: 0.9348245237022639\n",
      "Epoch 70 - Training loss: 0.9348015260882676\n",
      "Epoch 80 - Training loss: 0.9347816589288414\n",
      "Epoch 90 - Training loss: 0.9347643310204148\n"
     ]
    }
   ],
   "source": [
    "criterion = nn.MSELoss()\n",
    "optimizer = optim.Adagrad(model.parameters(), lr=0.01)\n",
    "epochs = 100\n",
    "for e in range(epochs):\n",
    "    running_loss = 0\n",
    "    for i in range(X_train.shape[0]):\n",
    "    \n",
    "        # Training pass\n",
    "        optimizer.zero_grad()\n",
    "        \n",
    "        output = model(X[i])\n",
    "        loss = criterion(output, y[i])\n",
    "        \n",
    "        #This is where the model learns by backpropagating\n",
    "        loss.backward()\n",
    "        \n",
    "        #And optimizes its weights here\n",
    "        optimizer.step()\n",
    "        \n",
    "        running_loss += loss.item()\n",
    "    if(e%10==0):    \n",
    "        print(\"Epoch {} - Training loss: {}\".format(e, running_loss/X_train.shape[0]))"
   ]
  },
  {
   "cell_type": "code",
   "execution_count": 53,
   "metadata": {},
   "outputs": [
    {
     "name": "stdout",
     "output_type": "stream",
     "text": [
      "0.675\n"
     ]
    }
   ],
   "source": [
    "y_pred = []\n",
    "with torch.no_grad():\n",
    "    for i in range(X_test.shape[0]):\n",
    "        logps = model(xPredicted[i])\n",
    "        if(logps>0.001):\n",
    "            y_pred.append(1)\n",
    "        else:\n",
    "            y_pred.append(-1)\n",
    "\n",
    "acc = accuracy_score(y_test, y_pred)\n",
    "print(acc)\n"
   ]
  }
 ],
 "metadata": {
  "kernelspec": {
   "display_name": "Python 3",
   "language": "python",
   "name": "python3"
  },
  "language_info": {
   "codemirror_mode": {
    "name": "ipython",
    "version": 3
   },
   "file_extension": ".py",
   "mimetype": "text/x-python",
   "name": "python",
   "nbconvert_exporter": "python",
   "pygments_lexer": "ipython3",
   "version": "3.7.4"
  }
 },
 "nbformat": 4,
 "nbformat_minor": 2
}
