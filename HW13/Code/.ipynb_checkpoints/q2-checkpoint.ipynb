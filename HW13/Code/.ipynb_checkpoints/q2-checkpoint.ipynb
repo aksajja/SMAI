{
 "cells": [
  {
   "cell_type": "code",
   "execution_count": 130,
   "metadata": {},
   "outputs": [
    {
     "name": "stdout",
     "output_type": "stream",
     "text": [
      "(6000, 784) (1000, 784)\n",
      "(6000,) (1000,)\n"
     ]
    }
   ],
   "source": [
    "from __future__ import print_function\n",
    "\n",
    "import numpy as np\n",
    "import matplotlib.pyplot as plt\n",
    "\n",
    "def read_data(filename):\n",
    "    with open(filename, 'r') as f:\n",
    "        lines = f.readlines()\n",
    "    \n",
    "    num_points = len(lines)\n",
    "    dim_points = 28 * 28\n",
    "    data = np.empty((num_points, dim_points))\n",
    "    labels = np.empty(num_points)\n",
    "    \n",
    "    for ind, line in enumerate(lines):\n",
    "        num = line.split(',')\n",
    "        labels[ind] = int(num[0])\n",
    "        data[ind] = [ int(x) for x in num[1:] ]\n",
    "        \n",
    "    return (data, labels)\n",
    "\n",
    "train_data, train_labels = read_data(\"sample_train.csv\")\n",
    "test_data, test_labels = read_data(\"sample_test.csv\")\n",
    "print(train_data.shape, test_data.shape)\n",
    "print(train_labels.shape, test_labels.shape)\n",
    "\n",
    "#adding a bias 1 to the train_data and test_data\n",
    "\n",
    "train_data = np.column_stack((train_data,np.ones(train_data.shape[0],)))\n",
    "test_data = np.column_stack((test_data,np.ones(test_data.shape[0])))\n",
    "\n",
    "row_sums = train_data.sum(axis=1)\n",
    "new_matrix = train_data / row_sums[:, np.newaxis]\n",
    "\n",
    "row_sums_test = test_data.sum(axis=1)\n",
    "new_matrix_test = test_data / row_sums_test[:, np.newaxis]"
   ]
  },
  {
   "cell_type": "code",
   "execution_count": 131,
   "metadata": {},
   "outputs": [
    {
     "data": {
      "text/plain": [
       "((785, 10), (6000, 785))"
      ]
     },
     "execution_count": 131,
     "metadata": {},
     "output_type": "execute_result"
    }
   ],
   "source": [
    "w = np.random.randn(785,10)\n",
    "\n",
    "train_labels_enc = (np.arange(np.max(train_labels) + 1) == train_labels[:, None]).astype(float)\n",
    "test_labels_enc = (np.arange(np.max(test_data) + 1) == test_labels[:, None]).astype(float)\n",
    "\n",
    "w.shape,train_data.shape"
   ]
  },
  {
   "cell_type": "code",
   "execution_count": 132,
   "metadata": {},
   "outputs": [],
   "source": [
    "def xwdot(X, W):\n",
    "    return X.dot(W)\n",
    "\n",
    "\n",
    "def softmax(z):\n",
    "    return (np.exp(z.T) / np.sum(np.exp(z), axis=1)).T\n",
    "\n",
    "\n",
    "def to_classlabel(z):\n",
    "    return z.argmax(axis=1)\n"
   ]
  },
  {
   "cell_type": "code",
   "execution_count": 133,
   "metadata": {},
   "outputs": [
    {
     "name": "stdout",
     "output_type": "stream",
     "text": [
      "accuracy_score: 0.5386666666666666\n",
      "accuracy_score: 0.5721666666666667\n",
      "accuracy_score: 0.39466666666666667\n",
      "accuracy_score: 0.4755\n",
      "accuracy_score: 0.6095\n",
      "accuracy_score: 0.6035\n",
      "accuracy_score: 0.6698333333333333\n",
      "accuracy_score: 0.6686666666666666\n",
      "accuracy_score: 0.6575\n",
      "accuracy_score: 0.6605\n",
      "accuracy_score: 0.6951666666666667\n",
      "accuracy_score: 0.7156666666666667\n",
      "accuracy_score: 0.727\n",
      "accuracy_score: 0.7836666666666666\n",
      "accuracy_score: 0.7748333333333334\n",
      "accuracy_score: 0.8155\n",
      "accuracy_score: 0.7955\n",
      "accuracy_score: 0.802\n",
      "accuracy_score: 0.7923333333333333\n",
      "accuracy_score: 0.8086666666666666\n",
      "accuracy_score: 0.8141666666666667\n",
      "accuracy_score: 0.8336666666666667\n",
      "accuracy_score: 0.839\n",
      "accuracy_score: 0.8576666666666667\n",
      "accuracy_score: 0.859\n",
      "accuracy_score: 0.8775\n",
      "accuracy_score: 0.876\n",
      "accuracy_score: 0.8906666666666667\n",
      "accuracy_score: 0.887\n",
      "accuracy_score: 0.8971666666666667\n",
      "accuracy_score: 0.8935\n",
      "accuracy_score: 0.9005\n",
      "accuracy_score: 0.8983333333333333\n",
      "accuracy_score: 0.9035\n",
      "accuracy_score: 0.9013333333333333\n",
      "accuracy_score: 0.9061666666666667\n",
      "accuracy_score: 0.9043333333333333\n",
      "accuracy_score: 0.9075\n",
      "accuracy_score: 0.9056666666666666\n",
      "accuracy_score: 0.9093333333333333\n",
      "accuracy_score: 0.9086666666666666\n",
      "accuracy_score: 0.9103333333333333\n",
      "accuracy_score: 0.9111666666666667\n",
      "accuracy_score: 0.9118333333333334\n",
      "accuracy_score: 0.912\n",
      "accuracy_score: 0.9133333333333333\n",
      "accuracy_score: 0.913\n",
      "accuracy_score: 0.9146666666666666\n",
      "accuracy_score: 0.9143333333333333\n",
      "accuracy_score: 0.9156666666666666\n",
      "accuracy_score: 0.9148333333333334\n",
      "accuracy_score: 0.917\n",
      "accuracy_score: 0.915\n",
      "accuracy_score: 0.918\n",
      "accuracy_score: 0.9166666666666666\n",
      "accuracy_score: 0.9191666666666667\n",
      "accuracy_score: 0.9175\n",
      "accuracy_score: 0.9195\n",
      "accuracy_score: 0.9178333333333333\n",
      "accuracy_score: 0.9198333333333333\n",
      "accuracy_score: 0.9175\n",
      "accuracy_score: 0.9198333333333333\n",
      "accuracy_score: 0.9168333333333333\n",
      "accuracy_score: 0.9208333333333333\n",
      "accuracy_score: 0.9173333333333333\n",
      "accuracy_score: 0.9198333333333333\n",
      "accuracy_score: 0.9175\n",
      "accuracy_score: 0.9188333333333333\n",
      "accuracy_score: 0.9165\n",
      "accuracy_score: 0.9178333333333333\n",
      "accuracy_score: 0.9158333333333334\n",
      "accuracy_score: 0.917\n",
      "accuracy_score: 0.9155\n",
      "accuracy_score: 0.9158333333333334\n",
      "accuracy_score: 0.9148333333333334\n",
      "accuracy_score: 0.9153333333333333\n",
      "accuracy_score: 0.9148333333333334\n",
      "accuracy_score: 0.9151666666666667\n",
      "accuracy_score: 0.9146666666666666\n",
      "accuracy_score: 0.9156666666666666\n",
      "accuracy_score: 0.9151666666666667\n",
      "accuracy_score: 0.9166666666666666\n",
      "accuracy_score: 0.9163333333333333\n",
      "accuracy_score: 0.9181666666666667\n",
      "accuracy_score: 0.9181666666666667\n",
      "accuracy_score: 0.9196666666666666\n",
      "accuracy_score: 0.9213333333333333\n",
      "accuracy_score: 0.9213333333333333\n",
      "accuracy_score: 0.9226666666666666\n",
      "accuracy_score: 0.9231666666666667\n",
      "accuracy_score: 0.924\n",
      "accuracy_score: 0.9248333333333333\n",
      "accuracy_score: 0.9246666666666666\n",
      "accuracy_score: 0.9268333333333333\n",
      "accuracy_score: 0.926\n",
      "accuracy_score: 0.9283333333333333\n",
      "accuracy_score: 0.9271666666666667\n",
      "accuracy_score: 0.9291666666666667\n",
      "accuracy_score: 0.9276666666666666\n",
      "accuracy_score: 0.9303333333333333\n"
     ]
    }
   ],
   "source": [
    "iterations = 100\n",
    "eta = 0.0001\n",
    "\n",
    "for it in range(iterations):\n",
    "\n",
    "    z = xwdot(new_matrix,w)\n",
    "\n",
    "    sz = softmax(z)\n",
    "\n",
    "    #sz.shape,train_labels_enc.shape\n",
    "\n",
    "    delj = train_data.T @(sz-train_labels_enc)\n",
    "\n",
    "    w = w - eta*delj\n",
    "    \n",
    "    \n",
    "    z = xwdot(new_matrix,w)\n",
    "    sz = softmax(z)\n",
    "    p = to_classlabel(sz)\n",
    "\n",
    "    print('accuracy_score: {}'.format(accuracy_score(train_labels,p)))"
   ]
  },
  {
   "cell_type": "code",
   "execution_count": 134,
   "metadata": {},
   "outputs": [
    {
     "data": {
      "text/plain": [
       "(6000,)"
      ]
     },
     "execution_count": 134,
     "metadata": {},
     "output_type": "execute_result"
    }
   ],
   "source": [
    "z = xwdot(new_matrix,w)\n",
    "sz = softmax(z)\n",
    "\n",
    "p = to_classlabel(sz)\n",
    "\n",
    "p.shape"
   ]
  },
  {
   "cell_type": "code",
   "execution_count": 135,
   "metadata": {},
   "outputs": [
    {
     "name": "stdout",
     "output_type": "stream",
     "text": [
      "accuracy_score: 0.894\n"
     ]
    }
   ],
   "source": [
    "#adding a bias 1 to the train_data and test_data\n",
    "\n",
    "z = xwdot(new_matrix_test,w)\n",
    "sz = softmax(z)\n",
    "p = to_classlabel(sz)\n",
    "\n",
    "print('accuracy_score: {}'.format(accuracy_score(test_labels,p)))"
   ]
  },
  {
   "cell_type": "code",
   "execution_count": 137,
   "metadata": {},
   "outputs": [
    {
     "data": {
      "image/png": "[encoded data removed]",
      "text/plain": [
       "<Figure size 648x648 with 2 Axes>"
      ]
     },
     "metadata": {
      "needs_background": "light"
     },
     "output_type": "display_data"
    }
   ],
   "source": [
    "import seaborn as sns\n",
    "from sklearn.metrics import confusion_matrix\n",
    "\n",
    "cm = confusion_matrix(test_labels, p) \n",
    "\n",
    "plt.figure(figsize=(9,9))\n",
    "sns.heatmap(cm, annot=True, fmt=\".3f\", linewidths=.5, square = True, cmap = 'Blues_r');\n",
    "plt.ylabel('Actual label');\n",
    "plt.xlabel('Predicted label');\n"
   ]
  },
  {
   "cell_type": "code",
   "execution_count": 80,
   "metadata": {},
   "outputs": [
    {
     "name": "stdout",
     "output_type": "stream",
     "text": [
      "accuracy_score: 0.7031666666666667\n"
     ]
    }
   ],
   "source": [
    "from sklearn.metrics import accuracy_score \n",
    "\n"
   ]
  },
  {
   "cell_type": "code",
   "execution_count": null,
   "metadata": {},
   "outputs": [],
   "source": [
    "def net_input(X, W, b):\n",
    "    return (X.dot(W) + b)\n",
    "\n",
    "\n",
    "def softmax(z):\n",
    "    return (np.exp(z.T) / np.sum(np.exp(z), axis=1)).T\n",
    "\n",
    "\n",
    "def to_classlabel(z):\n",
    "    return z.argmax(axis=1)\n",
    "\n",
    "def net_input(X, W, b):\n",
    "    return (X.dot(W) + b)\n",
    "\n",
    "\n",
    "y_enc = (np.arange(np.max(y) + 1) == y[:, None]).astype(float)"
   ]
  }
 ],
 "metadata": {
  "kernelspec": {
   "display_name": "Python 3",
   "language": "python",
   "name": "python3"
  },
  "language_info": {
   "codemirror_mode": {
    "name": "ipython",
    "version": 3
   },
   "file_extension": ".py",
   "mimetype": "text/x-python",
   "name": "python",
   "nbconvert_exporter": "python",
   "pygments_lexer": "ipython3",
   "version": "3.7.4"
  }
 },
 "nbformat": 4,
 "nbformat_minor": 2
}
